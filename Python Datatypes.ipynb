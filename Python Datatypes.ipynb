{
 "cells": [
  {
   "cell_type": "code",
   "execution_count": null,
   "id": "7f91ae55",
   "metadata": {},
   "outputs": [],
   "source": [
    "1+2"
   ]
  },
  {
   "cell_type": "code",
   "execution_count": null,
   "id": "77f8c663",
   "metadata": {},
   "outputs": [],
   "source": [
    "5/2"
   ]
  },
  {
   "cell_type": "code",
   "execution_count": null,
   "id": "566d2686",
   "metadata": {},
   "outputs": [],
   "source": [
    "5%2"
   ]
  },
  {
   "cell_type": "code",
   "execution_count": null,
   "id": "29ba62a6",
   "metadata": {},
   "outputs": [],
   "source": [
    "35%3"
   ]
  },
  {
   "cell_type": "code",
   "execution_count": null,
   "id": "6f3142f5",
   "metadata": {},
   "outputs": [],
   "source": [
    "3**5"
   ]
  },
  {
   "cell_type": "code",
   "execution_count": null,
   "id": "35262939",
   "metadata": {},
   "outputs": [],
   "source": [
    "2*4"
   ]
  },
  {
   "cell_type": "code",
   "execution_count": null,
   "id": "2b26b771",
   "metadata": {},
   "outputs": [],
   "source": [
    "0.1"
   ]
  },
  {
   "cell_type": "code",
   "execution_count": null,
   "id": "93a21a33",
   "metadata": {},
   "outputs": [],
   "source": [
    "int=4"
   ]
  },
  {
   "cell_type": "code",
   "execution_count": null,
   "id": "b14bbd00",
   "metadata": {},
   "outputs": [],
   "source": [
    "int\n",
    "\n"
   ]
  },
  {
   "cell_type": "code",
   "execution_count": null,
   "id": "e73c4a2b",
   "metadata": {},
   "outputs": [],
   "source": [
    "a+int"
   ]
  },
  {
   "cell_type": "code",
   "execution_count": null,
   "id": "80dd8344",
   "metadata": {},
   "outputs": [],
   "source": [
    "a=10\n"
   ]
  },
  {
   "cell_type": "code",
   "execution_count": null,
   "id": "97ead926",
   "metadata": {},
   "outputs": [],
   "source": [
    "a"
   ]
  },
  {
   "cell_type": "code",
   "execution_count": null,
   "id": "878b576f",
   "metadata": {},
   "outputs": [],
   "source": [
    "int"
   ]
  },
  {
   "cell_type": "code",
   "execution_count": null,
   "id": "9116507b",
   "metadata": {},
   "outputs": [],
   "source": [
    "a\n"
   ]
  },
  {
   "cell_type": "markdown",
   "id": "9b802393",
   "metadata": {},
   "source": [
    "a=10"
   ]
  },
  {
   "cell_type": "code",
   "execution_count": null,
   "id": "f71acaa0",
   "metadata": {},
   "outputs": [],
   "source": [
    "a=10"
   ]
  },
  {
   "cell_type": "code",
   "execution_count": null,
   "id": "f9dbec81",
   "metadata": {},
   "outputs": [],
   "source": [
    "type(A)"
   ]
  },
  {
   "cell_type": "code",
   "execution_count": null,
   "id": "2b3d3f52",
   "metadata": {},
   "outputs": [],
   "source": [
    "type(a)"
   ]
  },
  {
   "cell_type": "code",
   "execution_count": null,
   "id": "99678497",
   "metadata": {},
   "outputs": [],
   "source": [
    "'HELLo world'"
   ]
  },
  {
   "cell_type": "code",
   "execution_count": null,
   "id": "fbe56e47",
   "metadata": {},
   "outputs": [],
   "source": [
    "print('i am ')"
   ]
  },
  {
   "cell_type": "code",
   "execution_count": null,
   "id": "83781a9f",
   "metadata": {},
   "outputs": [],
   "source": [
    "a='i am'"
   ]
  },
  {
   "cell_type": "code",
   "execution_count": null,
   "id": "d5433348",
   "metadata": {},
   "outputs": [],
   "source": [
    "print('a')"
   ]
  },
  {
   "cell_type": "code",
   "execution_count": null,
   "id": "81c98efd",
   "metadata": {},
   "outputs": [],
   "source": [
    "print(a)"
   ]
  },
  {
   "cell_type": "code",
   "execution_count": null,
   "id": "2731daba",
   "metadata": {},
   "outputs": [],
   "source": [
    "len(a)"
   ]
  },
  {
   "cell_type": "code",
   "execution_count": null,
   "id": "a1826464",
   "metadata": {},
   "outputs": [],
   "source": [
    "mynum=200\n"
   ]
  },
  {
   "cell_type": "code",
   "execution_count": null,
   "id": "5d5bcc10",
   "metadata": {},
   "outputs": [],
   "source": [
    "mynum[0]"
   ]
  },
  {
   "cell_type": "code",
   "execution_count": null,
   "id": "0926cfc7",
   "metadata": {},
   "outputs": [],
   "source": [
    "mystring=\"Hello world\""
   ]
  },
  {
   "cell_type": "code",
   "execution_count": null,
   "id": "890892c5",
   "metadata": {},
   "outputs": [],
   "source": [
    "mystring[4]"
   ]
  },
  {
   "cell_type": "code",
   "execution_count": null,
   "id": "4222fcdb",
   "metadata": {},
   "outputs": [],
   "source": [
    "mystring[-1]"
   ]
  },
  {
   "cell_type": "code",
   "execution_count": null,
   "id": "c9e835f3",
   "metadata": {},
   "outputs": [],
   "source": [
    "myname=\"gopi srikanth\""
   ]
  },
  {
   "cell_type": "code",
   "execution_count": null,
   "id": "00033514",
   "metadata": {},
   "outputs": [],
   "source": [
    "myname[::-1]"
   ]
  },
  {
   "cell_type": "code",
   "execution_count": null,
   "id": "76a516f0",
   "metadata": {},
   "outputs": [],
   "source": [
    "myname[::1][4]\n"
   ]
  },
  {
   "cell_type": "code",
   "execution_count": null,
   "id": "df57f020",
   "metadata": {},
   "outputs": [],
   "source": [
    "'srikant'[2]"
   ]
  },
  {
   "cell_type": "code",
   "execution_count": null,
   "id": "4ff211e8",
   "metadata": {},
   "outputs": [],
   "source": [
    "myname"
   ]
  },
  {
   "cell_type": "code",
   "execution_count": null,
   "id": "e561ecbb",
   "metadata": {},
   "outputs": [],
   "source": [
    "myname.count('srika''nth')\n"
   ]
  },
  {
   "cell_type": "code",
   "execution_count": null,
   "id": "2afdea1f",
   "metadata": {},
   "outputs": [],
   "source": [
    "myname.upper()"
   ]
  },
  {
   "cell_type": "code",
   "execution_count": null,
   "id": "f56287ff",
   "metadata": {},
   "outputs": [],
   "source": [
    "x='srikanth'"
   ]
  },
  {
   "cell_type": "code",
   "execution_count": null,
   "id": "bd51963c",
   "metadata": {},
   "outputs": [],
   "source": [
    "x.upper()"
   ]
  },
  {
   "cell_type": "code",
   "execution_count": null,
   "id": "eac67679",
   "metadata": {},
   "outputs": [],
   "source": [
    "print('my name is {a}' .format(b='Srikanth', a='gopi'))"
   ]
  },
  {
   "cell_type": "code",
   "execution_count": null,
   "id": "0705e562",
   "metadata": {},
   "outputs": [],
   "source": [
    "x=10000/5345\n"
   ]
  },
  {
   "cell_type": "code",
   "execution_count": null,
   "id": "a3a04a90",
   "metadata": {},
   "outputs": [],
   "source": [
    "x"
   ]
  },
  {
   "cell_type": "code",
   "execution_count": null,
   "id": "e679e8f6",
   "metadata": {},
   "outputs": [],
   "source": [
    "print('the result is {p:20.3f}' .format(p=x))"
   ]
  },
  {
   "cell_type": "code",
   "execution_count": null,
   "id": "e8197dd4",
   "metadata": {},
   "outputs": [],
   "source": [
    "    name='Srikanth'"
   ]
  },
  {
   "cell_type": "code",
   "execution_count": null,
   "id": "99a3dabf",
   "metadata": {},
   "outputs": [],
   "source": [
    "print(f'my name is {name}')"
   ]
  },
  {
   "cell_type": "code",
   "execution_count": null,
   "id": "6bdbc74e",
   "metadata": {},
   "outputs": [],
   "source": [
    "newlist=['one','Srikanth','hero','Foru',6]"
   ]
  },
  {
   "cell_type": "code",
   "execution_count": null,
   "id": "90f338b4",
   "metadata": {},
   "outputs": [],
   "source": [
    "newlist"
   ]
  },
  {
   "cell_type": "code",
   "execution_count": null,
   "id": "de510dfc",
   "metadata": {},
   "outputs": [],
   "source": [
    "newlist.clear()"
   ]
  },
  {
   "cell_type": "code",
   "execution_count": null,
   "id": "f97c9803",
   "metadata": {},
   "outputs": [],
   "source": [
    "newlsit"
   ]
  },
  {
   "cell_type": "code",
   "execution_count": null,
   "id": "ea9c489e",
   "metadata": {},
   "outputs": [],
   "source": [
    "newlist"
   ]
  },
  {
   "cell_type": "code",
   "execution_count": null,
   "id": "eed1727a",
   "metadata": {},
   "outputs": [],
   "source": [
    "myset=set()"
   ]
  },
  {
   "cell_type": "code",
   "execution_count": null,
   "id": "b15ab411",
   "metadata": {},
   "outputs": [],
   "source": [
    "myset"
   ]
  },
  {
   "cell_type": "code",
   "execution_count": null,
   "id": "e8291439",
   "metadata": {},
   "outputs": [],
   "source": [
    "myset.add(1)"
   ]
  },
  {
   "cell_type": "code",
   "execution_count": null,
   "id": "a68bd4aa",
   "metadata": {},
   "outputs": [],
   "source": [
    "myset"
   ]
  },
  {
   "cell_type": "code",
   "execution_count": null,
   "id": "a3c97152",
   "metadata": {},
   "outputs": [],
   "source": [
    "myset.add(3)"
   ]
  },
  {
   "cell_type": "code",
   "execution_count": null,
   "id": "370d2229",
   "metadata": {},
   "outputs": [],
   "source": [
    "myset"
   ]
  },
  {
   "cell_type": "code",
   "execution_count": null,
   "id": "8843909f",
   "metadata": {},
   "outputs": [],
   "source": [
    "pwd"
   ]
  },
  {
   "cell_type": "code",
   "execution_count": null,
   "id": "a0632a99",
   "metadata": {},
   "outputs": [],
   "source": [
    "myfile=open('textfile.txt')"
   ]
  },
  {
   "cell_type": "code",
   "execution_count": null,
   "id": "902718e2",
   "metadata": {},
   "outputs": [],
   "source": [
    "myfile.read()"
   ]
  },
  {
   "cell_type": "code",
   "execution_count": null,
   "id": "8d7230cb",
   "metadata": {},
   "outputs": [],
   "source": [
    "myfile=open('textfile.txt')"
   ]
  },
  {
   "cell_type": "code",
   "execution_count": null,
   "id": "79f3f784",
   "metadata": {},
   "outputs": [],
   "source": [
    "myfile.read()"
   ]
  },
  {
   "cell_type": "code",
   "execution_count": null,
   "id": "e6f76a65",
   "metadata": {},
   "outputs": [],
   "source": [
    "myfile.read()"
   ]
  },
  {
   "cell_type": "code",
   "execution_count": null,
   "id": "98e08b8a",
   "metadata": {},
   "outputs": [],
   "source": [
    "myfile.seek()"
   ]
  },
  {
   "cell_type": "code",
   "execution_count": null,
   "id": "aa43321b",
   "metadata": {},
   "outputs": [],
   "source": [
    "myfile.seek(0)"
   ]
  },
  {
   "cell_type": "code",
   "execution_count": null,
   "id": "3cd61b8e",
   "metadata": {},
   "outputs": [],
   "source": [
    "myfile.read()"
   ]
  },
  {
   "cell_type": "code",
   "execution_count": null,
   "id": "c53a1b0b",
   "metadata": {},
   "outputs": [],
   "source": [
    "pwd\n"
   ]
  },
  {
   "cell_type": "code",
   "execution_count": null,
   "id": "792cc0d5",
   "metadata": {},
   "outputs": [],
   "source": [
    "myfile.readline()"
   ]
  },
  {
   "cell_type": "code",
   "execution_count": null,
   "id": "511bc83a",
   "metadata": {},
   "outputs": [],
   "source": [
    "myfile.seek(0)"
   ]
  },
  {
   "cell_type": "code",
   "execution_count": null,
   "id": "7711cda9",
   "metadata": {},
   "outputs": [],
   "source": [
    "mylist= myfile.readlines()"
   ]
  },
  {
   "cell_type": "code",
   "execution_count": null,
   "id": "34c84f77",
   "metadata": {},
   "outputs": [],
   "source": [
    "mylist"
   ]
  },
  {
   "cell_type": "code",
   "execution_count": null,
   "id": "0bdc3497",
   "metadata": {},
   "outputs": [],
   "source": [
    "mylist[0]"
   ]
  },
  {
   "cell_type": "code",
   "execution_count": null,
   "id": "33cb1ae1",
   "metadata": {},
   "outputs": [],
   "source": [
    "myfile.close()"
   ]
  },
  {
   "cell_type": "code",
   "execution_count": null,
   "id": "2b7c0c72",
   "metadata": {},
   "outputs": [],
   "source": [
    "myfile=open('textfile.txt')"
   ]
  },
  {
   "cell_type": "code",
   "execution_count": null,
   "id": "03612cd9",
   "metadata": {},
   "outputs": [],
   "source": [
    "myfile.read()"
   ]
  },
  {
   "cell_type": "code",
   "execution_count": null,
   "id": "2383be8d",
   "metadata": {},
   "outputs": [],
   "source": [
    "myfile.close()"
   ]
  },
  {
   "cell_type": "code",
   "execution_count": null,
   "id": "53045369",
   "metadata": {},
   "outputs": [],
   "source": [
    "with open('textfile.txt') as new_textfile:\n",
    "    contents= new_textfile.read()"
   ]
  },
  {
   "cell_type": "code",
   "execution_count": null,
   "id": "1042608a",
   "metadata": {},
   "outputs": [],
   "source": [
    "contents"
   ]
  },
  {
   "cell_type": "code",
   "execution_count": null,
   "id": "ea1ff3e8",
   "metadata": {},
   "outputs": [],
   "source": [
    "\n",
    "#Write an equation that uses multiplication, division, an exponent, addition, and subtraction that is equal to 100.25"
   ]
  },
  {
   "cell_type": "code",
   "execution_count": null,
   "id": "75dc088a",
   "metadata": {},
   "outputs": [],
   "source": [
    "a=50+50.25"
   ]
  },
  {
   "cell_type": "code",
   "execution_count": null,
   "id": "9a55ed60",
   "metadata": {},
   "outputs": [],
   "source": [
    "a"
   ]
  },
  {
   "cell_type": "code",
   "execution_count": null,
   "id": "c48952cb",
   "metadata": {},
   "outputs": [],
   "source": [
    "b=10*10"
   ]
  },
  {
   "cell_type": "code",
   "execution_count": null,
   "id": "4192d79e",
   "metadata": {},
   "outputs": [],
   "source": [
    "b"
   ]
  },
  {
   "cell_type": "code",
   "execution_count": null,
   "id": "864d60b1",
   "metadata": {},
   "outputs": [],
   "source": [
    "3+1.5+4"
   ]
  },
  {
   "cell_type": "code",
   "execution_count": null,
   "id": "9f757bc1",
   "metadata": {},
   "outputs": [],
   "source": [
    "type(8.5)"
   ]
  },
  {
   "cell_type": "code",
   "execution_count": null,
   "id": "f3ecc494",
   "metadata": {},
   "outputs": [],
   "source": [
    "2**2"
   ]
  },
  {
   "cell_type": "code",
   "execution_count": null,
   "id": "af27cb2b",
   "metadata": {},
   "outputs": [],
   "source": [
    "2*4"
   ]
  },
  {
   "cell_type": "code",
   "execution_count": null,
   "id": "58242748",
   "metadata": {},
   "outputs": [],
   "source": [
    "2**4"
   ]
  },
  {
   "cell_type": "code",
   "execution_count": null,
   "id": "f30afffc",
   "metadata": {},
   "outputs": [],
   "source": [
    "2^4"
   ]
  },
  {
   "cell_type": "code",
   "execution_count": null,
   "id": "28bb71b1",
   "metadata": {},
   "outputs": [],
   "source": [
    "2//4"
   ]
  },
  {
   "cell_type": "code",
   "execution_count": null,
   "id": "91ed73ab",
   "metadata": {},
   "outputs": [],
   "source": [
    "2%%4"
   ]
  },
  {
   "cell_type": "code",
   "execution_count": null,
   "id": "cc976d9a",
   "metadata": {},
   "outputs": [],
   "source": [
    "sqrt(4)"
   ]
  },
  {
   "cell_type": "code",
   "execution_count": null,
   "id": "a872d54b",
   "metadata": {},
   "outputs": [],
   "source": [
    "math.sqrt(4)"
   ]
  },
  {
   "cell_type": "code",
   "execution_count": null,
   "id": "14fe0422",
   "metadata": {},
   "outputs": [],
   "source": [
    "import math"
   ]
  },
  {
   "cell_type": "code",
   "execution_count": null,
   "id": "fd60d07f",
   "metadata": {},
   "outputs": [],
   "source": [
    "math.sqrt(4)"
   ]
  },
  {
   "cell_type": "code",
   "execution_count": null,
   "id": "c0a6711e",
   "metadata": {},
   "outputs": [],
   "source": [
    "s = 'hello'\n"
   ]
  },
  {
   "cell_type": "code",
   "execution_count": null,
   "id": "046bacb6",
   "metadata": {},
   "outputs": [],
   "source": [
    "s[1]"
   ]
  },
  {
   "cell_type": "code",
   "execution_count": null,
   "id": "136b7e47",
   "metadata": {},
   "outputs": [],
   "source": [
    "s[::-1]"
   ]
  },
  {
   "cell_type": "code",
   "execution_count": null,
   "id": "6e1401c0",
   "metadata": {},
   "outputs": [],
   "source": [
    "s[-1]"
   ]
  },
  {
   "cell_type": "code",
   "execution_count": null,
   "id": "2838c8f6",
   "metadata": {},
   "outputs": [],
   "source": [
    "s[4]"
   ]
  },
  {
   "cell_type": "code",
   "execution_count": null,
   "id": "eb995dd8",
   "metadata": {},
   "outputs": [],
   "source": [
    "list3 = [1,2,[3,4,'hello']]\n"
   ]
  },
  {
   "cell_type": "code",
   "execution_count": null,
   "id": "477ea6c7",
   "metadata": {},
   "outputs": [],
   "source": [
    "#Reassign 'hello' in this nested list to say 'goodbye' instead:\n",
    "\n"
   ]
  },
  {
   "cell_type": "code",
   "execution_count": null,
   "id": "d854a67a",
   "metadata": {},
   "outputs": [],
   "source": [
    "list3[2][2]='goodbye'"
   ]
  },
  {
   "cell_type": "code",
   "execution_count": null,
   "id": "226779fe",
   "metadata": {},
   "outputs": [],
   "source": [
    "list3"
   ]
  },
  {
   "cell_type": "code",
   "execution_count": null,
   "id": "f71c15c0",
   "metadata": {},
   "outputs": [],
   "source": [
    "list4 = [5,3,4,6,1]\n"
   ]
  },
  {
   "cell_type": "code",
   "execution_count": null,
   "id": "3c0a1e3f",
   "metadata": {},
   "outputs": [],
   "source": [
    "list4.sort()"
   ]
  },
  {
   "cell_type": "code",
   "execution_count": null,
   "id": "127efb5b",
   "metadata": {},
   "outputs": [],
   "source": [
    "list4"
   ]
  },
  {
   "cell_type": "code",
   "execution_count": null,
   "id": "71b0896b",
   "metadata": {},
   "outputs": [],
   "source": [
    "d = {'simple_key':'hello'}\n"
   ]
  },
  {
   "cell_type": "code",
   "execution_count": null,
   "id": "3d52bc88",
   "metadata": {},
   "outputs": [],
   "source": [
    "d['simple_key']"
   ]
  },
  {
   "cell_type": "code",
   "execution_count": null,
   "id": "e3978ca0",
   "metadata": {},
   "outputs": [],
   "source": [
    "d = {'k1':{'k2':'hello'}}\n"
   ]
  },
  {
   "cell_type": "code",
   "execution_count": null,
   "id": "831b77be",
   "metadata": {},
   "outputs": [],
   "source": [
    "d['k1']['k2']"
   ]
  },
  {
   "cell_type": "code",
   "execution_count": null,
   "id": "fca158ff",
   "metadata": {},
   "outputs": [],
   "source": [
    "d = {'k1':[{'nest_key':['this is deep',['hello']]}]}\n"
   ]
  },
  {
   "cell_type": "code",
   "execution_count": null,
   "id": "126dd05a",
   "metadata": {},
   "outputs": [],
   "source": [
    "d['k1'][0]['nest_key'][1]"
   ]
  },
  {
   "cell_type": "code",
   "execution_count": null,
   "id": "d8ab2c65",
   "metadata": {},
   "outputs": [],
   "source": [
    "list5 = [1,2,2,33,4,4,11,22,3,3,2]\n"
   ]
  },
  {
   "cell_type": "code",
   "execution_count": null,
   "id": "e61abd12",
   "metadata": {},
   "outputs": [],
   "source": [
    "list6=set(list5)"
   ]
  },
  {
   "cell_type": "code",
   "execution_count": null,
   "id": "837858b1",
   "metadata": {},
   "outputs": [],
   "source": [
    "list6"
   ]
  },
  {
   "cell_type": "code",
   "execution_count": null,
   "id": "a96248a6",
   "metadata": {},
   "outputs": [],
   "source": [
    "l_one = [1,2,[3,4]]\n",
    "l_two = [1,2,{'k1':4}]"
   ]
  },
  {
   "cell_type": "code",
   "execution_count": null,
   "id": "12b8eb0d",
   "metadata": {},
   "outputs": [],
   "source": [
    "l_one[2][0] >= l_two[2]['k1']\n"
   ]
  },
  {
   "cell_type": "code",
   "execution_count": null,
   "id": "6ed19a2a",
   "metadata": {},
   "outputs": [],
   "source": [
    "print('Hello word')"
   ]
  },
  {
   "cell_type": "code",
   "execution_count": null,
   "id": "ca824104",
   "metadata": {},
   "outputs": [],
   "source": [
    "c:\\Anaconda3\\Scripts\\activate base"
   ]
  },
  {
   "cell_type": "code",
   "execution_count": null,
   "id": "65493a10",
   "metadata": {},
   "outputs": [],
   "source": [
    "import pandas"
   ]
  },
  {
   "cell_type": "code",
   "execution_count": null,
   "id": "cc43e64c",
   "metadata": {},
   "outputs": [],
   "source": [
    "if 5 > 2:\n",
    "    print(\"Five is greater than two!\")\n"
   ]
  },
  {
   "cell_type": "code",
   "execution_count": null,
   "id": "a69cb8c6",
   "metadata": {},
   "outputs": [],
   "source": [
    "\"\"\"this is coment\"\"\""
   ]
  },
  {
   "cell_type": "code",
   "execution_count": null,
   "id": "0d07d809",
   "metadata": {},
   "outputs": [],
   "source": [
    "x=str(3)"
   ]
  },
  {
   "cell_type": "code",
   "execution_count": null,
   "id": "d6d1d8f8",
   "metadata": {},
   "outputs": [],
   "source": [
    "x\n"
   ]
  },
  {
   "cell_type": "code",
   "execution_count": null,
   "id": "0cf2a59a",
   "metadata": {},
   "outputs": [],
   "source": [
    "x+3"
   ]
  },
  {
   "cell_type": "code",
   "execution_count": null,
   "id": "928c936b",
   "metadata": {},
   "outputs": [],
   "source": [
    "x,y=3,2"
   ]
  },
  {
   "cell_type": "code",
   "execution_count": null,
   "id": "62ef8628",
   "metadata": {},
   "outputs": [],
   "source": [
    "x+y"
   ]
  },
  {
   "cell_type": "code",
   "execution_count": null,
   "id": "cf02f4d3",
   "metadata": {},
   "outputs": [],
   "source": [
    "fruit=['banaba','apple','mango']"
   ]
  },
  {
   "cell_type": "code",
   "execution_count": null,
   "id": "f2b46b3f",
   "metadata": {},
   "outputs": [],
   "source": [
    "x,y,z=fruit"
   ]
  },
  {
   "cell_type": "code",
   "execution_count": null,
   "id": "76b272d7",
   "metadata": {},
   "outputs": [],
   "source": [
    "x,y,z=fruit"
   ]
  },
  {
   "cell_type": "code",
   "execution_count": null,
   "id": "96811926",
   "metadata": {},
   "outputs": [],
   "source": [
    "print(x)"
   ]
  },
  {
   "cell_type": "code",
   "execution_count": null,
   "id": "a5582953",
   "metadata": {},
   "outputs": [],
   "source": [
    "print(y)"
   ]
  },
  {
   "cell_type": "code",
   "execution_count": null,
   "id": "c6116c20",
   "metadata": {},
   "outputs": [],
   "source": [
    "print(z)"
   ]
  },
  {
   "cell_type": "code",
   "execution_count": null,
   "id": "359886f2",
   "metadata": {},
   "outputs": [],
   "source": [
    "x = \"Python\"\n",
    "y = \"is\"\n",
    "z = \"awesome\""
   ]
  },
  {
   "cell_type": "code",
   "execution_count": null,
   "id": "9b90e5b6",
   "metadata": {},
   "outputs": [],
   "source": [
    "x\n"
   ]
  },
  {
   "cell_type": "code",
   "execution_count": null,
   "id": "083a9c64",
   "metadata": {},
   "outputs": [],
   "source": [
    "print('this is {}, which {}, perfectly {}'.format(x,y,z))"
   ]
  },
  {
   "cell_type": "code",
   "execution_count": null,
   "id": "fb2f3bf1",
   "metadata": {},
   "outputs": [],
   "source": []
  },
  {
   "cell_type": "code",
   "execution_count": null,
   "id": "ffb5df3e",
   "metadata": {},
   "outputs": [],
   "source": [
    "x = 5\n",
    "y = \"John\"\n",
    "print(x, y)"
   ]
  },
  {
   "cell_type": "code",
   "execution_count": null,
   "id": "2ba4bc9c",
   "metadata": {},
   "outputs": [],
   "source": [
    "x=1i"
   ]
  },
  {
   "cell_type": "code",
   "execution_count": null,
   "id": "3256110c",
   "metadata": {},
   "outputs": [],
   "source": [
    "x=1j"
   ]
  },
  {
   "cell_type": "code",
   "execution_count": null,
   "id": "a8111abc",
   "metadata": {},
   "outputs": [],
   "source": [
    "type(x)"
   ]
  },
  {
   "cell_type": "code",
   "execution_count": null,
   "id": "44c3c70f",
   "metadata": {},
   "outputs": [],
   "source": [
    "\n",
    "x=range(6)"
   ]
  },
  {
   "cell_type": "code",
   "execution_count": null,
   "id": "f2999967",
   "metadata": {},
   "outputs": [],
   "source": [
    "x\n"
   ]
  },
  {
   "cell_type": "code",
   "execution_count": null,
   "id": "0b8b007d",
   "metadata": {},
   "outputs": [],
   "source": [
    "x = {\"apple\", \"banana\", \"cherry\"}"
   ]
  },
  {
   "cell_type": "code",
   "execution_count": null,
   "id": "ebb893de",
   "metadata": {},
   "outputs": [],
   "source": [
    "x\n"
   ]
  },
  {
   "cell_type": "code",
   "execution_count": null,
   "id": "735077b4",
   "metadata": {},
   "outputs": [],
   "source": [
    "x[0]"
   ]
  },
  {
   "cell_type": "code",
   "execution_count": null,
   "id": "18cffb62",
   "metadata": {},
   "outputs": [],
   "source": [
    "x = b\"Hello\""
   ]
  },
  {
   "cell_type": "code",
   "execution_count": null,
   "id": "9b5c0a2e",
   "metadata": {},
   "outputs": [],
   "source": [
    "x"
   ]
  },
  {
   "cell_type": "code",
   "execution_count": null,
   "id": "f0d4753e",
   "metadata": {},
   "outputs": [],
   "source": [
    "x = memoryview(bytes(5))"
   ]
  },
  {
   "cell_type": "code",
   "execution_count": null,
   "id": "4e7fbac1",
   "metadata": {},
   "outputs": [],
   "source": [
    "x"
   ]
  },
  {
   "cell_type": "code",
   "execution_count": null,
   "id": "ea24da86",
   "metadata": {},
   "outputs": [],
   "source": [
    "\n",
    "if 2==2:\n",
    "    print('it is True')"
   ]
  },
  {
   "cell_type": "code",
   "execution_count": null,
   "id": "34d1f9e3",
   "metadata": {},
   "outputs": [],
   "source": [
    "mylist=[4234,245,234543,534,645,6,7,567,568,67867,8]"
   ]
  },
  {
   "cell_type": "code",
   "execution_count": null,
   "id": "2be1ad48",
   "metadata": {},
   "outputs": [],
   "source": [
    "for myname in mylist.index(534):\n",
    "    print(myname)"
   ]
  },
  {
   "cell_type": "code",
   "execution_count": null,
   "id": "a90d25af",
   "metadata": {},
   "outputs": [],
   "source": [
    "mylist=[(1,2),(3,4),(5,6),(7,8)]"
   ]
  },
  {
   "cell_type": "code",
   "execution_count": null,
   "id": "c3851b32",
   "metadata": {},
   "outputs": [],
   "source": [
    "for a,b in mylist:\n",
    "    print(a)"
   ]
  },
  {
   "cell_type": "code",
   "execution_count": null,
   "id": "955f2301",
   "metadata": {},
   "outputs": [],
   "source": [
    "x=0\n",
    "while x<5:\n",
    "    print(x)"
   ]
  },
  {
   "cell_type": "code",
   "execution_count": null,
   "id": "4f812438",
   "metadata": {},
   "outputs": [],
   "source": [
    "x=1\n",
    "while x>0:\n",
    "    print(x)\n",
    "    x=x+1"
   ]
  },
  {
   "cell_type": "code",
   "execution_count": 1,
   "id": "0001eb0e",
   "metadata": {},
   "outputs": [],
   "source": [
    "#Use for, .split(), and if to create a Statement that will print out words that start with 's':\n",
    "\n"
   ]
  },
  {
   "cell_type": "code",
   "execution_count": 10,
   "id": "754e484c",
   "metadata": {},
   "outputs": [],
   "source": [
    "def even_ch(num1):\n",
    "    if num1 %2==0:\n",
    "        print(f\"the given number {num1} is even\")\n",
    "    else:\n",
    "        print(f\"the given number {num1} is odd\")"
   ]
  },
  {
   "cell_type": "code",
   "execution_count": 15,
   "id": "cc29a00b",
   "metadata": {},
   "outputs": [
    {
     "name": "stdout",
     "output_type": "stream",
     "text": [
      "the given number 525435 is odd\n"
     ]
    }
   ],
   "source": [
    "even_ch(525435)"
   ]
  },
  {
   "cell_type": "code",
   "execution_count": 16,
   "id": "2de1ea22",
   "metadata": {},
   "outputs": [],
   "source": [
    "def even_check(num):\n",
    "    return result\n",
    "        "
   ]
  },
  {
   "cell_type": "code",
   "execution_count": 17,
   "id": "84f6e4b9",
   "metadata": {},
   "outputs": [
    {
     "data": {
      "text/plain": [
       "True"
      ]
     },
     "execution_count": 17,
     "metadata": {},
     "output_type": "execute_result"
    }
   ],
   "source": [
    "even_check(20)"
   ]
  },
  {
   "cell_type": "code",
   "execution_count": 30,
   "id": "d5d87ed5",
   "metadata": {},
   "outputs": [],
   "source": [
    "def even_chekc_list(list1):\n",
    "    even_number=[]\n",
    "    for number in  list1:\n",
    "        if number%2==0:\n",
    "            even_number.append(number)\n",
    "        else:\n",
    "            pass\n",
    "    return even_number\n",
    "\n",
    "    "
   ]
  },
  {
   "cell_type": "code",
   "execution_count": 28,
   "id": "cb02d8ef",
   "metadata": {},
   "outputs": [
    {
     "ename": "NameError",
     "evalue": "name 'even_number' is not defined",
     "output_type": "error",
     "traceback": [
      "\u001b[1;31m---------------------------------------------------------------------------\u001b[0m",
      "\u001b[1;31mNameError\u001b[0m                                 Traceback (most recent call last)",
      "Input \u001b[1;32mIn [28]\u001b[0m, in \u001b[0;36m<cell line: 1>\u001b[1;34m()\u001b[0m\n\u001b[1;32m----> 1\u001b[0m \u001b[43meven_number\u001b[49m\n",
      "\u001b[1;31mNameError\u001b[0m: name 'even_number' is not defined"
     ]
    }
   ],
   "source": [
    "even_number"
   ]
  },
  {
   "cell_type": "code",
   "execution_count": 31,
   "id": "d674a975",
   "metadata": {},
   "outputs": [
    {
     "data": {
      "text/plain": [
       "[34, 6, 4, 6, 4]"
      ]
     },
     "execution_count": 31,
     "metadata": {},
     "output_type": "execute_result"
    }
   ],
   "source": [
    "even_chekc_list([1,34,6,73,4,6,7,3,57,4])"
   ]
  },
  {
   "cell_type": "code",
   "execution_count": 35,
   "id": "d18514f3",
   "metadata": {},
   "outputs": [
    {
     "name": "stdout",
     "output_type": "stream",
     "text": [
      "3\n",
      "4\n"
     ]
    }
   ],
   "source": [
    "a = int(input())\n",
    "b = int(input())\n"
   ]
  },
  {
   "cell_type": "code",
   "execution_count": 36,
   "id": "83dc8f2f",
   "metadata": {},
   "outputs": [
    {
     "data": {
      "text/plain": [
       "7"
      ]
     },
     "execution_count": 36,
     "metadata": {},
     "output_type": "execute_result"
    }
   ],
   "source": [
    "a+b"
   ]
  },
  {
   "cell_type": "code",
   "execution_count": null,
   "id": "747a290a",
   "metadata": {},
   "outputs": [],
   "source": []
  },
  {
   "cell_type": "code",
   "execution_count": null,
   "id": "1bf0139b",
   "metadata": {},
   "outputs": [],
   "source": []
  }
 ],
 "metadata": {
  "kernelspec": {
   "display_name": "Python 3 (ipykernel)",
   "language": "python",
   "name": "python3"
  },
  "language_info": {
   "codemirror_mode": {
    "name": "ipython",
    "version": 3
   },
   "file_extension": ".py",
   "mimetype": "text/x-python",
   "name": "python",
   "nbconvert_exporter": "python",
   "pygments_lexer": "ipython3",
   "version": "3.9.12"
  }
 },
 "nbformat": 4,
 "nbformat_minor": 5
}
